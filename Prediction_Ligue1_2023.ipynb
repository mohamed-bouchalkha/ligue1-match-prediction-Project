{
  "nbformat": 4,
  "nbformat_minor": 0,
  "metadata": {
    "colab": {
      "provenance": [],
      "authorship_tag": "ABX9TyMsbb1v0DKXYjiSLzBeNOma",
      "include_colab_link": true
    },
    "kernelspec": {
      "name": "python3",
      "display_name": "Python 3"
    },
    "language_info": {
      "name": "python"
    }
  },
  "cells": [
    {
      "cell_type": "markdown",
      "metadata": {
        "id": "view-in-github",
        "colab_type": "text"
      },
      "source": [
        "<a href=\"https://colab.research.google.com/github/mohamed-bouchalkha/ligue1-match-prediction-Project/blob/main/Prediction_Ligue1_2023.ipynb\" target=\"_parent\"><img src=\"https://colab.research.google.com/assets/colab-badge.svg\" alt=\"Open In Colab\"/></a>"
      ]
    },
    {
      "cell_type": "code",
      "execution_count": 1,
      "metadata": {
        "colab": {
          "base_uri": "https://localhost:8080/"
        },
        "id": "gAme219rzTmE",
        "outputId": "482e260e-ef61-47d7-c03a-a69052730f6e"
      },
      "outputs": [
        {
          "output_type": "stream",
          "name": "stdout",
          "text": [
            "Mounted at /content/drive\n"
          ]
        }
      ],
      "source": [
        "from google.colab import drive\n",
        "drive.mount('/content/drive')"
      ]
    },
    {
      "cell_type": "code",
      "source": [
        "# Monter Google Drive\n",
        "from google.colab import drive\n",
        "drive.mount('/content/drive')\n",
        "\n",
        "# Définir le chemin des fichiers\n",
        "base_path = '/content/drive/MyDrive/ColabDatasets/Ligue1_Prediction/'\n",
        "\n",
        "# Importer les bibliothèques\n",
        "import pandas as pd\n",
        "\n",
        "# Lire les datasets\n",
        "df_match_hist = pd.read_csv(base_path + \"matchs_2013_2022.csv\")\n",
        "df_match_2023 = pd.read_csv(base_path + \"match_2023.csv\")\n",
        "df_clubs = pd.read_csv(base_path + \"clubs_fr.csv\")\n",
        "df_valuations = pd.read_csv(base_path + \"player_valuation_before_season.csv\")\n",
        "df_appearance = pd.read_csv(base_path + \"player_appearance.csv\")\n",
        "df_lineups = pd.read_csv(base_path + \"game_lineups.csv\")\n",
        "df_events = pd.read_csv(base_path + \"game_events.csv\")\n",
        "df_sample = pd.read_csv(base_path + \"sample_results.csv\")\n",
        "df_prediction_ex = pd.read_csv(base_path + \"prediction_example.csv\")\n"
      ],
      "metadata": {
        "colab": {
          "base_uri": "https://localhost:8080/"
        },
        "id": "GhRA8r7YzW9R",
        "outputId": "0320df4b-0ae0-4b0f-9908-af3fdb2d680a"
      },
      "execution_count": 2,
      "outputs": [
        {
          "output_type": "stream",
          "name": "stdout",
          "text": [
            "Drive already mounted at /content/drive; to attempt to forcibly remount, call drive.mount(\"/content/drive\", force_remount=True).\n"
          ]
        },
        {
          "output_type": "stream",
          "name": "stderr",
          "text": [
            "<ipython-input-2-82409e429909>:17: DtypeWarning: Columns (9) have mixed types. Specify dtype option on import or set low_memory=False.\n",
            "  df_lineups = pd.read_csv(base_path + \"game_lineups.csv\")\n"
          ]
        }
      ]
    },
    {
      "cell_type": "code",
      "source": [],
      "metadata": {
        "id": "HmZbLzApzjFn"
      },
      "execution_count": null,
      "outputs": []
    }
  ]
}